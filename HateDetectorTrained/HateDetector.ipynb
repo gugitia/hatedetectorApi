{
 "cells": [
  {
   "cell_type": "code",
   "execution_count": 20,
   "id": "f6bbc0f3",
   "metadata": {},
   "outputs": [],
   "source": [
    "import onnxruntime as rt\n",
    "from sklearn.feature_extraction.text import TfidfVectorizer\n",
    "import numpy as np\n",
    "import pickle\n",
    "\n",
    "# Carregar o modelo ONNX\n",
    "onnx_model_path = 'HateDetector_Trained_Model.onnx'\n",
    "sess = rt.InferenceSession(onnx_model_path)\n",
    "\n",
    "# Carrega o vetorizador \n",
    "with open('vectorizer.pkl', 'rb') as f:\n",
    "    vectorizer = pickle.load(f)"
   ]
  },
  {
   "cell_type": "code",
   "execution_count": 25,
   "id": "3f7bc464",
   "metadata": {},
   "outputs": [
    {
     "name": "stdout",
     "output_type": "stream",
     "text": [
      "  (0, 1619)\t0.5160593384146455\n",
      "  (0, 519)\t0.7645428034968041\n",
      "  (0, 117)\t0.386208571702242\n"
     ]
    }
   ],
   "source": [
    "input_text = {'comment': 'kill all chinese'}\n",
    "if isinstance(vectorizer, TfidfVectorizer):\n",
    "    texto = input_text['comment']\n",
    "    X_input = vectorizer.transform([texto])\n",
    "else:\n",
    "    raise ValueError(\"O vetorizador não é uma instância de TfidfVectorizer.\")\n",
    "print(X_input)"
   ]
  },
  {
   "cell_type": "code",
   "execution_count": 26,
   "id": "e9e241e5",
   "metadata": {},
   "outputs": [
    {
     "name": "stdout",
     "output_type": "stream",
     "text": [
      "Predição: 0.8649995\n"
     ]
    }
   ],
   "source": [
    "X_input_np = X_input.toarray().astype('float32')\n",
    "\n",
    "# Obter os nomes das entradas e saídas do modelo ONNX\n",
    "input_name = sess.get_inputs()[0].name\n",
    "output_name = sess.get_outputs()[0].name\n",
    "\n",
    "# Fazer a previsão usando o modelo ONNX\n",
    "pred = sess.run([output_name], {input_name: X_input_np})\n",
    "\n",
    "# A predição é uma matriz numpy, você pode acessar o valor assim:\n",
    "print('Predição:', pred[0][0][0])"
   ]
  },
  {
   "cell_type": "code",
   "execution_count": null,
   "id": "dd6a8bb9",
   "metadata": {},
   "outputs": [],
   "source": []
  }
 ],
 "metadata": {
  "kernelspec": {
   "display_name": "Python 3 (ipykernel)",
   "language": "python",
   "name": "python3"
  },
  "language_info": {
   "codemirror_mode": {
    "name": "ipython",
    "version": 3
   },
   "file_extension": ".py",
   "mimetype": "text/x-python",
   "name": "python",
   "nbconvert_exporter": "python",
   "pygments_lexer": "ipython3",
   "version": "3.10.9"
  }
 },
 "nbformat": 4,
 "nbformat_minor": 5
}
